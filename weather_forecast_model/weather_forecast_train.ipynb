{
 "cells": [
  {
   "cell_type": "code",
   "execution_count": null,
   "metadata": {
    "scrolled": true
   },
   "outputs": [],
   "source": [
    "!pip3 install --upgrade pip\n",
    "!pip3 install --upgrade pandas\n",
    "!pip3 install --upgrade sklearn"
   ]
  },
  {
   "cell_type": "code",
   "execution_count": null,
   "metadata": {
    "scrolled": true
   },
   "outputs": [],
   "source": [
    "import numpy as np\n",
    "import matplotlib.pyplot as plt\n",
    "import pandas as pd"
   ]
  },
  {
   "cell_type": "code",
   "execution_count": null,
   "metadata": {},
   "outputs": [],
   "source": [
    "pd.options.mode.chained_assignment = None \n",
    "# load training data\n",
    "dataset = pd.read_csv('Kraków 2021-02-01 to 2022-01-26.csv')\n",
    "dataset"
   ]
  },
  {
   "cell_type": "code",
   "execution_count": null,
   "metadata": {},
   "outputs": [],
   "source": [
    "# print and select weather parameters for model\n",
    "columns_names = [col for col in dataset]\n",
    "\n",
    "pd.DataFrame(columns_names, columns=['column_name'])"
   ]
  },
  {
   "cell_type": "code",
   "execution_count": null,
   "metadata": {},
   "outputs": [],
   "source": [
    "selected_columns = [2, 5, 21]\n",
    "selected_columns_names = [columns_names[col] for col in selected_columns]\n",
    "print(selected_columns_names)\n",
    "\n",
    "dataset = dataset.dropna(subset=selected_columns_names)\n",
    "dataset=dataset.reset_index(drop=True)\n",
    "training_set_wlabels = dataset.iloc[:,selected_columns]\n"
   ]
  },
  {
   "cell_type": "code",
   "execution_count": null,
   "metadata": {},
   "outputs": [],
   "source": [
    "# perform one-hot encoding of weather conditions\n",
    "cond = ['Snow', 'Rain, Partially cloudy', 'Snow, Partially cloudy', 'Rain', 'Partially cloudy', 'Rain, Overcast', 'Snow, Rain, Overcast', 'Overcast', 'Snow, Overcast', 'Clear', 'Snow, Rain, Partially cloudy']\n",
    "for label in cond:\n",
    "    training_set_wlabels.loc[:, label] = 0\n",
    "    training_set_wlabels.loc[training_set_wlabels['conditions']==label, label] = 1\n",
    "training_set_wlabels = training_set_wlabels.drop(columns='conditions')\n",
    "\n",
    "training_set = training_set_wlabels.values"
   ]
  },
  {
   "cell_type": "code",
   "execution_count": null,
   "metadata": {
    "scrolled": true
   },
   "outputs": [],
   "source": [
    "from sklearn.preprocessing import MinMaxScaler\n",
    "sc = MinMaxScaler(feature_range=(0,1))\n",
    "training_set_scaled = sc.fit_transform(training_set)"
   ]
  },
  {
   "cell_type": "code",
   "execution_count": null,
   "metadata": {},
   "outputs": [],
   "source": [
    "import joblib\n",
    "joblib.dump(sc, \"scaler.save\")"
   ]
  },
  {
   "cell_type": "code",
   "execution_count": null,
   "metadata": {
    "scrolled": true
   },
   "outputs": [],
   "source": [
    "# setup model settings\n",
    "x_train = []\n",
    "y_train = []\n",
    "# prediction of M samples \n",
    "n_future = 12\n",
    "# based on last N samples\n",
    "n_past = 48\n",
    "for i in range(0,len(training_set_scaled)-n_past-n_future+1):\n",
    "    x_train.append(training_set_scaled[i : i + n_past])\n",
    "    y_train.append(training_set_scaled[i + n_past : i + n_past + n_future])\n",
    "x_train , y_train = np.array(x_train), np.array(y_train)\n",
    "x_train = np.reshape(x_train, (x_train.shape[0] , x_train.shape[2], x_train.shape[1]))\n",
    "y_train = np.reshape(y_train, (y_train.shape[0] , y_train.shape[2], y_train.shape[1]))"
   ]
  },
  {
   "cell_type": "code",
   "execution_count": null,
   "metadata": {
    "scrolled": true
   },
   "outputs": [],
   "source": [
    "from keras.models import Sequential, load_model\n",
    "from keras.layers import LSTM, Dense, Dropout, Bidirectional"
   ]
  },
  {
   "cell_type": "code",
   "execution_count": null,
   "metadata": {},
   "outputs": [],
   "source": [
    "model = Sequential()\n",
    "model.add(Bidirectional(LSTM(units=30, return_sequences=True, input_shape = (x_train.shape[1],x_train.shape[2]))))\n",
    "model.add(Dropout(0.2))\n",
    "model.add(LSTM(units= 30 , return_sequences=True))\n",
    "model.add(Dropout(0.2))\n",
    "model.add(LSTM(units= 30 , return_sequences=True))\n",
    "model.add(Dropout(0.2))\n",
    "model.add(Dense(units = n_future,activation='linear'))\n",
    "model.compile(optimizer='adam', loss='mean_squared_error',metrics=['acc'])\n",
    "\n",
    "from time import time\n",
    "tstart = time()\n",
    "model.fit(x_train, y_train, epochs=500,batch_size=32)\n",
    "tstop = time()"
   ]
  },
  {
   "cell_type": "code",
   "execution_count": null,
   "metadata": {
    "scrolled": true
   },
   "outputs": [],
   "source": [
    "model.summary()"
   ]
  },
  {
   "cell_type": "code",
   "execution_count": null,
   "metadata": {},
   "outputs": [],
   "source": [
    "print(f\"time passed: {(int)(tstop-tstart)//3600}h {(int)(tstop-tstart)%3600//60}m {(int)(tstop-tstart)%60}s\")"
   ]
  },
  {
   "cell_type": "code",
   "execution_count": null,
   "metadata": {
    "scrolled": true
   },
   "outputs": [],
   "source": [
    "model.save('weather_forecast_model')"
   ]
  },
  {
   "cell_type": "code",
   "execution_count": null,
   "metadata": {},
   "outputs": [],
   "source": [
    "!tar czf weather_forecast_model.tgz weather_forecast_model"
   ]
  },
  {
   "cell_type": "code",
   "execution_count": null,
   "metadata": {
    "scrolled": true
   },
   "outputs": [],
   "source": [
    "# testing prediction accuracy considering weather history\n",
    "testdata = pd.read_csv('Kraków 2022-03-01 to 2022-03-09.csv')\n",
    "\n",
    "offset = 0\n",
    "\n",
    "testdataset_wlabels = testdata.iloc[offset:offset+30,selected_columns]\n",
    "\n",
    "# perform one-hot encoding of weather conditions\n",
    "for label in cond:\n",
    "    testdataset_wlabels[label] = 0\n",
    "    testdataset_wlabels.loc[testdataset_wlabels['conditions']==label, label] = 1\n",
    "testdataset_wlabels = testdataset_wlabels.drop(columns='conditions')\n",
    "\n",
    "testdataset = testdataset_wlabels.values\n",
    "testing = sc.transform(testdataset)\n",
    "testing = np.array(testing)\n",
    "testing = np.reshape(testing,(1,testing.shape[1],testing.shape[0]))"
   ]
  },
  {
   "cell_type": "code",
   "execution_count": null,
   "metadata": {
    "scrolled": true
   },
   "outputs": [],
   "source": [
    "predicted_weather = model.predict(testing)\n",
    "predicted_weather = np.reshape(predicted_weather, (predicted_weather.shape[2],predicted_weather.shape[1]))\n",
    "predicted_weather = sc.inverse_transform(predicted_weather)"
   ]
  },
  {
   "cell_type": "code",
   "execution_count": null,
   "metadata": {
    "scrolled": true
   },
   "outputs": [],
   "source": [
    "# loading real weather for test reference\n",
    "real_weather = pd.read_csv('Kraków 2022-03-01 to 2022-03-09.csv')\n",
    "real_weather = real_weather.iloc[offset+30:offset+34,selected_columns]\n",
    "\n",
    "# removing one-hot encoding\n",
    "predicted_weather_wlabels = pd.DataFrame(predicted_weather, columns=[col for col in selected_columns_names if col != 'conditions']+cond)\n",
    "max_cond = np.argmax(predicted_weather[:, 2:], axis=1)\n",
    "for i, mcond in enumerate(max_cond):\n",
    "    predicted_weather_wlabels.loc[i, 'conditions'] = cond[mcond]\n",
    "predicted_weather_wlabels = predicted_weather_wlabels.drop(columns=cond)"
   ]
  },
  {
   "cell_type": "code",
   "execution_count": null,
   "metadata": {},
   "outputs": [],
   "source": [
    "real_weather"
   ]
  },
  {
   "cell_type": "code",
   "execution_count": null,
   "metadata": {
    "scrolled": true
   },
   "outputs": [],
   "source": [
    "predicted_weather_wlabels"
   ]
  }
 ],
 "metadata": {
  "kernelspec": {
   "display_name": "Python 3",
   "language": "python",
   "name": "python3"
  },
  "language_info": {
   "codemirror_mode": {
    "name": "ipython",
    "version": 3
   },
   "file_extension": ".py",
   "mimetype": "text/x-python",
   "name": "python",
   "nbconvert_exporter": "python",
   "pygments_lexer": "ipython3",
   "version": "3.8.10"
  }
 },
 "nbformat": 4,
 "nbformat_minor": 2
}
